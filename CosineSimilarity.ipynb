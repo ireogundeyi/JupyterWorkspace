{
 "cells": [
  {
   "cell_type": "code",
   "execution_count": 13,
   "id": "7c116382",
   "metadata": {},
   "outputs": [],
   "source": [
    "#Cosine similarity is a metric used to measure how similar the documents are irrespective of their size.\n",
    "#Mathematically, it measures the cosine of the angle between two vectors projected in a multi-dimensional space.\n"
   ]
  },
  {
   "cell_type": "code",
   "execution_count": 14,
   "id": "2de9cd09",
   "metadata": {},
   "outputs": [],
   "source": [
    "#To test this i will create 3 documents taken from the first paragraph of three celebrities from wikipedia:\n",
    "#Kobe Byrant, LeBron James, and Barack Obama.\n",
    "#There are obvious similarities as Kobe Byrant and Lebron James are both professional basketball players \n",
    "#but they also share some similarites with Barack Obama who is an African American person."
   ]
  },
  {
   "cell_type": "code",
   "execution_count": 15,
   "id": "75b1bc5a",
   "metadata": {},
   "outputs": [],
   "source": [
    "# creating the documents\n",
    "doc_kobe = \"Kobe Bean Bryant (/ˈkoʊbiː/ KOH-bee; August 23, 1978 – January 26, 2020) was an American professional basketball player. A shooting guard, he spent his entire 20-year career with the Los Angeles Lakers in the National Basketball Association (NBA). Widely regarded as one of the greatest basketball players of all time,[3][4][5][6][7] Bryant won five NBA championships, was an 18-time All-Star, a 15-time member of the All-NBA Team, a 12-time member of the All-Defensive Team, the 2008 NBA Most Valuable Player (MVP), and a two-time NBA Finals MVP. Bryant also led the NBA in scoring twice, and ranks fourth in league all-time regular season and postseason scoring. He was posthumously voted into the Naismith Memorial Basketball Hall of Fame in 2020 and named to the NBA 75th Anniversary Team in 2021.\"\n",
    "doc_lebron = \"LeBron Raymone James Sr. (/ləˈbrɒn/; born December 30, 1984) is an American professional basketball player for the Los Angeles Lakers of the National Basketball Association (NBA). Nicknamed 'King James', he is widely considered one of the greatest players of all time and is often compared to Michael Jordan in debates over the greatest basketball player ever.[a] James has won four NBA championships, four NBA MVP awards, four NBA Finals MVP awards, three All-Star MVP awards, and two Olympic gold medals. James has scored the most points in the playoffs, the second most career points, and has the seventh most career assists. He has been selected an NBA All-Star 18 times, to the All-NBA Team a record 18 times,[b] and to the NBA All-Defensive First Team five times.[3] He has competed in ten NBA Finals, the third most all time, including eight consecutively between 2011 and 2018.[4] In 2021, James was selected to the NBA 75th Anniversary Team,[5] and in 2022 became the first player in NBA history to accumulate 10,000 or more career points, rebounds, and assists.[6]\"\n",
    "doc_obama = \"Barack Hussein Obama II (/bəˈrɑːk huːˈseɪn oʊˈbɑːmə/ (listen) bə-RAHK hoo-SAYN oh-BAH-mə;[1] born August 4, 1961) is an American politician who served as the 44th president of the United States from 2009 to 2017. A member of the Democratic Party, he was the first African-American president of the United States.[2] Obama previously served as a U.S. senator from Illinois from 2005 to 2008 and as an Illinois state senator from 1997 to 2004.\"\n",
    "\n",
    "# create array/list of documents\n",
    "documents = [doc_kobe, doc_lebron, doc_obama]"
   ]
  },
  {
   "cell_type": "code",
   "execution_count": 16,
   "id": "2494e77c",
   "metadata": {},
   "outputs": [
    {
     "data": {
      "text/html": [
       "<div>\n",
       "<style scoped>\n",
       "    .dataframe tbody tr th:only-of-type {\n",
       "        vertical-align: middle;\n",
       "    }\n",
       "\n",
       "    .dataframe tbody tr th {\n",
       "        vertical-align: top;\n",
       "    }\n",
       "\n",
       "    .dataframe thead th {\n",
       "        text-align: right;\n",
       "    }\n",
       "</style>\n",
       "<table border=\"1\" class=\"dataframe\">\n",
       "  <thead>\n",
       "    <tr style=\"text-align: right;\">\n",
       "      <th></th>\n",
       "      <th>000</th>\n",
       "      <th>10</th>\n",
       "      <th>12</th>\n",
       "      <th>15</th>\n",
       "      <th>18</th>\n",
       "      <th>1961</th>\n",
       "      <th>1978</th>\n",
       "      <th>1984</th>\n",
       "      <th>1997</th>\n",
       "      <th>20</th>\n",
       "      <th>...</th>\n",
       "      <th>united</th>\n",
       "      <th>valuable</th>\n",
       "      <th>voted</th>\n",
       "      <th>was</th>\n",
       "      <th>who</th>\n",
       "      <th>widely</th>\n",
       "      <th>with</th>\n",
       "      <th>won</th>\n",
       "      <th>year</th>\n",
       "      <th>ˈkoʊbiː</th>\n",
       "    </tr>\n",
       "  </thead>\n",
       "  <tbody>\n",
       "    <tr>\n",
       "      <th>doc_kobe</th>\n",
       "      <td>0</td>\n",
       "      <td>0</td>\n",
       "      <td>1</td>\n",
       "      <td>1</td>\n",
       "      <td>1</td>\n",
       "      <td>0</td>\n",
       "      <td>1</td>\n",
       "      <td>0</td>\n",
       "      <td>0</td>\n",
       "      <td>1</td>\n",
       "      <td>...</td>\n",
       "      <td>0</td>\n",
       "      <td>1</td>\n",
       "      <td>1</td>\n",
       "      <td>3</td>\n",
       "      <td>0</td>\n",
       "      <td>1</td>\n",
       "      <td>1</td>\n",
       "      <td>1</td>\n",
       "      <td>1</td>\n",
       "      <td>1</td>\n",
       "    </tr>\n",
       "    <tr>\n",
       "      <th>doc_lebron</th>\n",
       "      <td>1</td>\n",
       "      <td>1</td>\n",
       "      <td>0</td>\n",
       "      <td>0</td>\n",
       "      <td>2</td>\n",
       "      <td>0</td>\n",
       "      <td>0</td>\n",
       "      <td>1</td>\n",
       "      <td>0</td>\n",
       "      <td>0</td>\n",
       "      <td>...</td>\n",
       "      <td>0</td>\n",
       "      <td>0</td>\n",
       "      <td>0</td>\n",
       "      <td>1</td>\n",
       "      <td>0</td>\n",
       "      <td>1</td>\n",
       "      <td>0</td>\n",
       "      <td>1</td>\n",
       "      <td>0</td>\n",
       "      <td>0</td>\n",
       "    </tr>\n",
       "    <tr>\n",
       "      <th>doc_obama</th>\n",
       "      <td>0</td>\n",
       "      <td>0</td>\n",
       "      <td>0</td>\n",
       "      <td>0</td>\n",
       "      <td>0</td>\n",
       "      <td>1</td>\n",
       "      <td>0</td>\n",
       "      <td>0</td>\n",
       "      <td>1</td>\n",
       "      <td>0</td>\n",
       "      <td>...</td>\n",
       "      <td>2</td>\n",
       "      <td>0</td>\n",
       "      <td>0</td>\n",
       "      <td>1</td>\n",
       "      <td>1</td>\n",
       "      <td>0</td>\n",
       "      <td>0</td>\n",
       "      <td>0</td>\n",
       "      <td>0</td>\n",
       "      <td>0</td>\n",
       "    </tr>\n",
       "  </tbody>\n",
       "</table>\n",
       "<p>3 rows × 177 columns</p>\n",
       "</div>"
      ],
      "text/plain": [
       "            000  10  12  15  18  1961  1978  1984  1997  20  ...  united  \\\n",
       "doc_kobe      0   0   1   1   1     0     1     0     0   1  ...       0   \n",
       "doc_lebron    1   1   0   0   2     0     0     1     0   0  ...       0   \n",
       "doc_obama     0   0   0   0   0     1     0     0     1   0  ...       2   \n",
       "\n",
       "            valuable  voted  was  who  widely  with  won  year  ˈkoʊbiː  \n",
       "doc_kobe           1      1    3    0       1     1    1     1        1  \n",
       "doc_lebron         0      0    1    0       1     0    1     0        0  \n",
       "doc_obama          0      0    1    1       0     0    0     0        0  \n",
       "\n",
       "[3 rows x 177 columns]"
      ]
     },
     "execution_count": 16,
     "metadata": {},
     "output_type": "execute_result"
    }
   ],
   "source": [
    "# to find the cosine similarity, we first need to find the word count of each word in the documents.\n",
    "\n",
    "from sklearn.feature_extraction.text import CountVectorizer\n",
    "import pandas as pd\n",
    "\n",
    "# We want to create a word count matrix\n",
    "\n",
    "# This is so words like 'an' and 'the' skew the data\n",
    "count_vector = CountVectorizer(stop_words='english')\n",
    "count_vector = CountVectorizer()\n",
    "\n",
    "sparse_matrix = count_vector.fit_transform(documents)\n",
    "\n",
    "# to dense to give nan values values.\n",
    "doc_term_matrix = sparse_matrix.todense()\n",
    "df = pd.DataFrame(doc_term_matrix, \n",
    "                  columns=count_vector.get_feature_names_out(), \n",
    "                  index=['doc_kobe', 'doc_lebron', 'doc_obama'])\n",
    "\n",
    "df\n",
    "\n"
   ]
  },
  {
   "cell_type": "code",
   "execution_count": 17,
   "id": "fbf2137e",
   "metadata": {},
   "outputs": [
    {
     "name": "stdout",
     "output_type": "stream",
     "text": [
      "[[1.         0.73977588 0.36062951]\n",
      " [0.73977588 1.         0.35881405]\n",
      " [0.36062951 0.35881405 1.        ]]\n"
     ]
    }
   ],
   "source": [
    "from sklearn.metrics.pairwise import cosine_similarity\n",
    "print(cosine_similarity(df, df))\n"
   ]
  },
  {
   "cell_type": "code",
   "execution_count": null,
   "id": "7e7c7ce0",
   "metadata": {},
   "outputs": [],
   "source": [
    "# The closer to 1, the more similar the documents are. We can see that the kobe and lebron doc have a cosine similarty of 0.73 \n",
    "# compared to that of kobe and obama and obama and lebron. "
   ]
  },
  {
   "cell_type": "code",
   "execution_count": null,
   "id": "c6ffb5e4",
   "metadata": {},
   "outputs": [],
   "source": []
  }
 ],
 "metadata": {
  "kernelspec": {
   "display_name": "Python 3",
   "language": "python",
   "name": "python3"
  },
  "language_info": {
   "codemirror_mode": {
    "name": "ipython",
    "version": 3
   },
   "file_extension": ".py",
   "mimetype": "text/x-python",
   "name": "python",
   "nbconvert_exporter": "python",
   "pygments_lexer": "ipython3",
   "version": "3.8.10"
  }
 },
 "nbformat": 4,
 "nbformat_minor": 5
}
